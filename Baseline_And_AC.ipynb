{
 "cells": [
  {
   "cell_type": "markdown",
   "metadata": {},
   "source": [
    "### \n",
    "1) Implement REINFORCE with Baseline (Value function for advantage) with neural network policy approximation to solve the Maze problem. \n",
    "\n",
    "2) Now, implement AC Methods with NN approximators for both actor and critic to solve the Maze problem. How are the solutions different each other?"
   ]
  },
  {
   "cell_type": "markdown",
   "metadata": {},
   "source": [
    " "
   ]
  },
  {
   "cell_type": "markdown",
   "metadata": {},
   "source": [
    "#### Maze Problem (Practice)"
   ]
  },
  {
   "cell_type": "code",
   "execution_count": 1,
   "metadata": {},
   "outputs": [],
   "source": [
    "import collections\n",
    "import numpy as np\n",
    "import tensorflow as tf\n",
    "import matplotlib.pyplot as plt\n",
    "import IPython.display as ipd\n",
    "%matplotlib inline"
   ]
  },
  {
   "cell_type": "markdown",
   "metadata": {},
   "source": [
    "### Sample Grid Environment File\n",
    "\n",
    "Simple text file with three characters, 'O', 'H', and 'G'.\n",
    "- 'O': open space\n",
    "- 'H': Wall or obstacles\n",
    "- 'G': Goal location "
   ]
  },
  {
   "cell_type": "code",
   "execution_count": 2,
   "metadata": {},
   "outputs": [
    {
     "name": "stdout",
     "output_type": "stream",
     "text": [
      "OOOHOOOOO\n",
      "OOOHOOHOO\n",
      "OOOOOOHOO\n",
      "OOOOHHHOO\n",
      "OOHOOOOOH\n",
      "OOHOOOGOO\n",
      "OOOOOOOOO"
     ]
    }
   ],
   "source": [
    "%%bash \n",
    "cat grid.txt"
   ]
  },
  {
   "cell_type": "markdown",
   "metadata": {},
   "source": [
    "### GridWorld Class\n"
   ]
  },
  {
   "cell_type": "code",
   "execution_count": 3,
   "metadata": {},
   "outputs": [],
   "source": [
    "# maze example\n",
    "\n",
    "class GridWorld:\n",
    "    \"\"\" Grid World environment\n",
    "            there are four actions (left, right, up, and down) to move an agent\n",
    "            In a grid, if it reaches a goal, it get 30 points of reward.\n",
    "            If it falls in a hole or moves out of the grid world, it gets -5.\n",
    "            Each step costs -1 point. \n",
    "\n",
    "        to test GridWorld, run the following sample codes:\n",
    "\n",
    "            env = GridWorld('grid.txt')\n",
    "\n",
    "            env.print_map()\n",
    "            print [2,3], env.check_state([2,3])\n",
    "            print [0,0], env.check_state([0,0])\n",
    "            print [3,4], env.check_state([3,4])\n",
    "            print [10,3], env.check_state([10,3])\n",
    "\n",
    "            env.init([0,0])\n",
    "            print env.next(1)  # right\n",
    "            print env.next(3)  # down\n",
    "            print env.next(0)  # left\n",
    "            print env.next(2)  # up\n",
    "            print env.next(2)  # up\n",
    "\n",
    "        Parameters\n",
    "        ==========\n",
    "        _map        ndarray\n",
    "                    string array read from a file input\n",
    "        _size       1d array\n",
    "                    the size of _map in ndarray\n",
    "        goal_pos    tuple\n",
    "                    the index for the goal location\n",
    "        _actions    list\n",
    "                    list of actions for 4 actions\n",
    "        _s          1d array\n",
    "                    current state\n",
    "    \"\"\"\n",
    "    def __init__(self, fn):\n",
    "        # read a map from a file\n",
    "        self._map = self.read_map(fn)\n",
    "        self._size = np.asarray(self._map.shape)\n",
    "        self.goal_pos = np.where(self._map == 'G')\n",
    "\n",
    "        # definition of actions (left, right, up, and down repectively)\n",
    "        self._actions = [[0, -1], [0, 1], [-1, 0], [1, 0]]\n",
    "        self._s = None\n",
    "\n",
    "    def get_cur_state(self):\n",
    "        return self._s\n",
    "\n",
    "    def get_size(self):\n",
    "        return self._size\n",
    "\n",
    "    def read_map(self, fn):\n",
    "        grid = []\n",
    "        with open(fn) as f:\n",
    "            for line in f:\n",
    "               grid.append(list(line.strip()))\n",
    "        return np.asarray(grid)\n",
    "\n",
    "    def print_map(self):\n",
    "        print( self._map )\n",
    "\n",
    "    def check_state(self, s):\n",
    "        if isinstance(s, collections.Iterable) and len(s) == 2:\n",
    "            if s[0] < 0 or s[1] < 0 or\\\n",
    "               s[0] >= self._size[0] or s[1] >= self._size[1]:\n",
    "               return 'N'\n",
    "            return self._map[tuple(s)].upper()\n",
    "        else:\n",
    "            return 'F'  # wrong input\n",
    "\n",
    "    def init(self, state=None):\n",
    "        if state is None:\n",
    "            s = [0, 0]\n",
    "        else:\n",
    "            s = state\n",
    "\n",
    "        if self.check_state(s) == 'O':\n",
    "            self._s = np.asarray(state)\n",
    "        else:\n",
    "            raise ValueError(\"Invalid state for init\")\n",
    "\n",
    "    def next(self, a):\n",
    "        s1 = self._s + self._actions[a]\n",
    "        # state transition\n",
    "        curr = self.check_state(s1)\n",
    "        \n",
    "        if curr == 'H' or curr == 'N':\n",
    "            return -5\n",
    "        elif curr == 'F':\n",
    "            warnings.warn(\"invalid state \" + str(s1))\n",
    "            return -5\n",
    "        elif curr == 'G':\n",
    "            self._s = s1\n",
    "            return 30\n",
    "        else:\n",
    "            self._s = s1\n",
    "            return -1\n",
    "        \n",
    "    def is_goal(self):\n",
    "        return self.check_state(self._s) == 'G'\n",
    "            \n",
    "    def get_actions(self):\n",
    "        return self._actions"
   ]
  },
  {
   "cell_type": "code",
   "execution_count": 4,
   "metadata": {},
   "outputs": [
    {
     "name": "stdout",
     "output_type": "stream",
     "text": [
      "[['O' 'O' 'O' 'H' 'O' 'O' 'O' 'O' 'O']\n",
      " ['O' 'O' 'O' 'H' 'O' 'O' 'H' 'O' 'O']\n",
      " ['O' 'O' 'O' 'O' 'O' 'O' 'H' 'O' 'O']\n",
      " ['O' 'O' 'O' 'O' 'H' 'H' 'H' 'O' 'O']\n",
      " ['O' 'O' 'H' 'O' 'O' 'O' 'O' 'O' 'H']\n",
      " ['O' 'O' 'H' 'O' 'O' 'O' 'G' 'O' 'O']\n",
      " ['O' 'O' 'O' 'O' 'O' 'O' 'O' 'O' 'O']]\n"
     ]
    }
   ],
   "source": [
    "env = GridWorld(\"grid.txt\")\n",
    "env.print_map()"
   ]
  },
  {
   "cell_type": "code",
   "execution_count": 5,
   "metadata": {},
   "outputs": [],
   "source": [
    "# top-left to (0,0)\n",
    "def coord_convert(s, sz):\n",
    "    return [s[1], sz[0]-s[0]-1]"
   ]
  },
  {
   "cell_type": "code",
   "execution_count": 6,
   "metadata": {},
   "outputs": [
    {
     "data": {
      "text/plain": [
       "<tf.Tensor 'ExpandDims:0' shape=(1, 2, 63) dtype=float32>"
      ]
     },
     "execution_count": 6,
     "metadata": {},
     "output_type": "execute_result"
    }
   ],
   "source": [
    "tf.expand_dims(tf.one_hot([0,0], 63), 0)"
   ]
  },
  {
   "cell_type": "markdown",
   "metadata": {
    "collapsed": true
   },
   "source": [
    "### Solution:\n",
    "#### 1.) REINFORCE with Baseline"
   ]
  },
  {
   "cell_type": "code",
   "execution_count": null,
   "metadata": {},
   "outputs": [],
   "source": [
    "class Policy:\n",
    "    def __init__(self, env):\n",
    "        self.input = tf.placeholder(shape= [1,63],dtype= tf.float32)\n",
    "        \n",
    "        self.output = tf.contrib.layers.fully_connected(inputs = self.input, num_outputs = len(env.get_actions()), \n",
    "                                                       activation_fn = None, \n",
    "                                                        weights_initializer= tf.zeros_initializer)\n",
    "        self.action = tf.placeholder(shape= (), dtype= tf.int32)\n",
    "        self.target = tf.placeholder(shape= (), dtype= tf.float32)\n",
    "        \n",
    "        self.action_prob = tf.squeeze(tf.nn.softmax(self.output))\n",
    "        self.action_picked = tf.gather(self.action_prob, self.action)\n",
    "#         self.action_picked = tf.arg_max(self.output, 1)\n",
    "        \n",
    "        self.loss = -tf.log(self.action_picked) * self.target\n",
    "        \n",
    "        self.opt = tf.train.AdamOptimizer(learning_rate=0.01)\n",
    "        self.updateModel = self.opt.minimize(self.loss)\n",
    "        \n",
    "    def predict(self, state):\n",
    "        return sess.run(self.action_prob, feed_dict= {self.input: state})\n",
    "    \n",
    "    def update(self, state, target, action):\n",
    "        return sess.run([self.updateModel, self.loss], feed_dict = { self.input: state, self.target: target, self.action: action  })\n",
    "        "
   ]
  },
  {
   "cell_type": "code",
   "execution_count": 22,
   "metadata": {},
   "outputs": [],
   "source": [
    "class Policy:\n",
    "    def __init__(self, env):\n",
    "        self.input = tf.placeholder(shape= [1,63],dtype= tf.float32)\n",
    "        \n",
    "        self.output = tf.contrib.layers.fully_connected(inputs = self.input, num_outputs = len(env.get_actions()), \n",
    "                                                       activation_fn = None, \n",
    "                                                        weights_initializer= tf.zeros_initializer)\n",
    "        self.action = tf.placeholder(shape= (), dtype= tf.int32)\n",
    "        self.target = tf.placeholder(shape= (), dtype= tf.float32)\n",
    "        \n",
    "        self.action_prob = tf.nn.softmax(self.output)\n",
    "        self.action_picked = self.action_prob[0, self.action]\n",
    "#         self.action_picked = tf.arg_max(self.output, 1)\n",
    "        \n",
    "        self.loss = -tf.log(self.action_picked) * self.target\n",
    "        \n",
    "        self.opt = tf.train.AdamOptimizer(learning_rate=0.01)\n",
    "        self.updateModel = self.opt.minimize(self.loss)\n",
    "        \n",
    "    def predict(self, state):\n",
    "        return sess.run(self.action_prob, feed_dict= {self.input: state})\n",
    "    \n",
    "    def update(self, state, target, action):\n",
    "        return sess.run([self.updateModel, self.loss], feed_dict = { self.input: state, self.target: target, self.action: action  })\n",
    "        "
   ]
  },
  {
   "cell_type": "code",
   "execution_count": 23,
   "metadata": {},
   "outputs": [],
   "source": [
    "class Value:\n",
    "    def __init__(self, env):\n",
    "        self.input = tf.placeholder(shape= [1,63],dtype= tf.float32)\n",
    "        \n",
    "        self.output = tf.contrib.layers.fully_connected(inputs = self.input, num_outputs = 1,\n",
    "                                                       activation_fn = None, \n",
    "                                                        weights_initializer= tf.zeros_initializer)\n",
    "        self.action = tf.placeholder(shape= (), dtype= tf.int32)\n",
    "        self.target = tf.placeholder(shape= (), dtype= tf.float32)\n",
    "        \n",
    "        self.value = tf.squeeze(self.output)\n",
    "#         self.action_picked = self.action_prob[0, self.action]\n",
    "        \n",
    "        self.loss = tf.squared_difference(self.value, self.target)\n",
    "        \n",
    "        self.opt = tf.train.AdamOptimizer(learning_rate=0.05)\n",
    "        self.updateModel = self.opt.minimize(self.loss)\n",
    "        \n",
    "    def predict(self, state):\n",
    "        return sess.run(self.value, feed_dict= {self.input: state})\n",
    "    \n",
    "    def update(self, state, target):\n",
    "        return sess.run([self.updateModel, self.loss], feed_dict = { self.input: state, self.target: target})\n",
    "        "
   ]
  },
  {
   "cell_type": "code",
   "execution_count": 24,
   "metadata": {},
   "outputs": [],
   "source": [
    "def encoding(state):\n",
    "    one_hot = np.zeros((9 * 7))\n",
    "    # row * i + j\n",
    "    one_hot[9 * state[0] + state[1]] = 1\n",
    "    return one_hot.reshape(-1,1).T"
   ]
  },
  {
   "cell_type": "code",
   "execution_count": 20,
   "metadata": {},
   "outputs": [],
   "source": [
    "def rf_baseline(policy, value, env, n_episodes, start):\n",
    "    rtrace = []\n",
    "    gamma = 1.0\n",
    "    fig = plt.figure(figsize=(16, 16))\n",
    "    \n",
    "    for i in range(n_episodes):\n",
    "        rewards = []\n",
    "        episodes = []\n",
    "        \n",
    "        env.init(start)\n",
    "        state = env.get_cur_state()\n",
    "        j = 0\n",
    "        for j in range(500):\n",
    "            action_prob = policy.predict(encoding(state))\n",
    "#             print(np.arange(action_prob.shape[1]))\n",
    "            action = np.random.choice(np.arange(action_prob.shape[1]), p= action_prob[0])\n",
    "            reward = env.next(action)\n",
    "            rewards.append(reward)\n",
    "            \n",
    "            next_state = env.get_cur_state()\n",
    "            \n",
    "            episodes.append((state, action, reward))\n",
    "            \n",
    "            if env.is_goal():\n",
    "                print(i)\n",
    "                break\n",
    "            state = next_state\n",
    "            \n",
    "        for steps in range(len(episodes)):\n",
    "            G = 0\n",
    "            for k in range(steps+1, len(episodes)):\n",
    "                G += gamma **(k-steps-1) * episodes[k][2]\n",
    "                \n",
    "            delta = G - value.predict(encoding(episodes[steps][0]))           \n",
    "            value.update(encoding(episodes[steps][0]), G)\n",
    "            policy.update(encoding(episodes[steps][0]), delta, episodes[steps][1])  \n",
    "            \n",
    "        rtrace.append(np.sum(rewards))\n",
    "        \n",
    "        last_plot = (i == n_episodes-1)\n",
    "\n",
    "        if i % 10 == 0 or last_plot:\n",
    "            plt.clf()\n",
    "            fig.add_subplot(221)\n",
    "            plt.plot(rtrace, \"b-\")\n",
    "            plt.ylabel(\"sum of rewards\")\n",
    "\n",
    "    #         fig.add_subplot(222)\n",
    "    #         plt.plot(etrace, \"-\")\n",
    "    #         plt.ylabel(\"p(random action), $\\epsilon$\")\n",
    "\n",
    "\n",
    "            plt.suptitle(''.join([\"Episode \",str(i)]))\n",
    "            plt.tight_layout(rect=[0, 0.03, 1, 0.95])\n",
    "            plt.draw()\n",
    "\n",
    "            ipd.clear_output(wait=True)\n",
    "            ipd.display(fig)\n",
    "        ipd.clear_output(wait=True)\n",
    "            \n",
    "        "
   ]
  },
  {
   "cell_type": "code",
   "execution_count": 21,
   "metadata": {
    "scrolled": false
   },
   "outputs": [
    {
     "data": {
      "image/png": "[encoded data removed]",
      "text/plain": [
       "<Figure size 1152x1152 with 1 Axes>"
      ]
     },
     "metadata": {
      "needs_background": "light"
     },
     "output_type": "display_data"
    }
   ],
   "source": [
    "tf.reset_default_graph()\n",
    "\n",
    "policy = Policy(env)\n",
    "value = Value(env)\n",
    "\n",
    "with tf.Session() as sess:\n",
    "    sess.run(tf.initialize_all_variables())\n",
    "    rf_baseline(policy, value, env, 1000, [0,0])"
   ]
  },
  {
   "cell_type": "code",
   "execution_count": null,
   "metadata": {},
   "outputs": [],
   "source": []
  },
  {
   "cell_type": "markdown",
   "metadata": {},
   "source": [
    "### AC with NN approx"
   ]
  },
  {
   "cell_type": "code",
   "execution_count": 27,
   "metadata": {},
   "outputs": [],
   "source": [
    "def ac_nn(policy, value, env, n_episodes, start):\n",
    "    rtrace = []\n",
    "    gamma = .99\n",
    "    fig = plt.figure(figsize=(16, 16))\n",
    "    \n",
    "    for i in range(n_episodes):\n",
    "        rewards = []\n",
    "        \n",
    "        env.init(start)\n",
    "        state = env.get_cur_state()\n",
    "        j = 0\n",
    "        I = 1\n",
    "        for j in range(500):\n",
    "            action_prob = policy.predict(encoding(state))\n",
    "#             print(np.arange(action_prob.shape[1]))\n",
    "            action = np.random.choice(np.arange(action_prob.shape[1]), p= action_prob[0])\n",
    "            reward = env.next(action)\n",
    "            rewards.append(reward)\n",
    "            \n",
    "            curr_value = value.predict(encoding(state))\n",
    "            next_state = env.get_cur_state()\n",
    "            next_value = value.predict(encoding(next_state))\n",
    "            \n",
    "            total = reward + gamma * next_value \n",
    "            delta = total - curr_value\n",
    "            \n",
    "            value.update(encoding(state), total)\n",
    "            policy.update(encoding(state), I * delta, action)\n",
    "            \n",
    "            \n",
    "            if env.is_goal():\n",
    "                print(i)\n",
    "                break\n",
    "            I = gamma * I\n",
    "            state = next_state  \n",
    "            \n",
    "        rtrace.append(np.sum(rewards))\n",
    "        \n",
    "        last_plot = (i == n_episodes-1)\n",
    "\n",
    "        if i % 10 == 0 or last_plot:\n",
    "            plt.clf()\n",
    "            fig.add_subplot(221)\n",
    "            plt.plot(rtrace, \"b-\")\n",
    "            plt.ylabel(\"sum of rewards\")\n",
    "\n",
    "    #         fig.add_subplot(222)\n",
    "    #         plt.plot(etrace, \"-\")\n",
    "    #         plt.ylabel(\"p(random action), $\\epsilon$\")\n",
    "\n",
    "\n",
    "            plt.suptitle(''.join([\"Episode \",str(i)]))\n",
    "            plt.tight_layout(rect=[0, 0.03, 1, 0.95])\n",
    "            plt.draw()\n",
    "\n",
    "            ipd.clear_output(wait=True)\n",
    "            ipd.display(fig)\n",
    "        ipd.clear_output(wait=True)\n",
    "            \n",
    "        "
   ]
  },
  {
   "cell_type": "code",
   "execution_count": 28,
   "metadata": {},
   "outputs": [
    {
     "data": {
      "image/png": "[encoded data removed]",
      "text/plain": [
       "<Figure size 1152x1152 with 1 Axes>"
      ]
     },
     "metadata": {
      "needs_background": "light"
     },
     "output_type": "display_data"
    }
   ],
   "source": [
    "tf.reset_default_graph()\n",
    "\n",
    "policy_ac = Policy(env)\n",
    "value_ac = Value(env)\n",
    "\n",
    "with tf.Session() as sess:\n",
    "    sess.run(tf.initialize_all_variables())\n",
    "    ac_nn(policy_ac, value_ac, env, 500, [0,0])"
   ]
  },
  {
   "cell_type": "code",
   "execution_count": null,
   "metadata": {},
   "outputs": [],
   "source": []
  },
  {
   "cell_type": "code",
   "execution_count": null,
   "metadata": {},
   "outputs": [],
   "source": []
  },
  {
   "cell_type": "markdown",
   "metadata": {},
   "source": [
    "### References:\n",
    "https://docs.w3cub.com/tensorflow~python/tf/contrib/layers/fully_connected/"
   ]
  }
 ],
 "metadata": {
  "kernelspec": {
   "display_name": "Python 3",
   "language": "python",
   "name": "python3"
  },
  "language_info": {
   "codemirror_mode": {
    "name": "ipython",
    "version": 3
   },
   "file_extension": ".py",
   "mimetype": "text/x-python",
   "name": "python",
   "nbconvert_exporter": "python",
   "pygments_lexer": "ipython3",
   "version": "3.7.3"
  }
 },
 "nbformat": 4,
 "nbformat_minor": 2
}
