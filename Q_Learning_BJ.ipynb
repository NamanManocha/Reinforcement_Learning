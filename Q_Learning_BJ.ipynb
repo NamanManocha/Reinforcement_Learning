{
 "cells": [
  {
   "cell_type": "markdown",
   "metadata": {},
   "source": [
    " "
   ]
  },
  {
   "cell_type": "markdown",
   "metadata": {},
   "source": [
    "# Reinforcement Learning\n",
    "\n",
    "## Naman Manocha"
   ]
  },
  {
   "cell_type": "markdown",
   "metadata": {},
   "source": [
    "# Overview\n",
    "\n",
    "This workbook is about the another interesting field of machine learning which is **Reinforcement Learning** which resembles the human form of learning and based on reward funtion. When the series of actions end up with good results, we can **reinforce** those actions by giving some rewards. In this workbook, we will be implementing and learning reinforcement learning with Card game named **Black Jack**.  \n",
    "We wil follow Temporal Difference learning approach for our implementation because this approach consider that the agent knows only partial information of the MDP. Basically, there are two algorithms SARSA and Q-learning for the implementaion whcih we will discuss later in our workbook which one to choose. "
   ]
  },
  {
   "cell_type": "markdown",
   "metadata": {},
   "source": [
    "## Blackjack\n",
    "\n",
    "![](https://upload.wikimedia.org/wikipedia/commons/a/a2/Blackjack_game_1.JPG)"
   ]
  },
  {
   "cell_type": "markdown",
   "metadata": {},
   "source": [
    "# Description of Blackjack Problem\n",
    "\n",
    "Blackjack is a card game where the goal is to obtain cards that sum to as near as possible to 21 without going over. They're playing against a fixed dealer.\n",
    "\n",
    "Face cards (Jack, Queen, King) have point value 10. Aces can either count as 11 or 1, and it's called 'usable' at 11. This game is placed with an infinite deck (or with replacement).\n",
    "\n",
    "The game starts with each player getting two face up cards and dealer having one face up and face down card and the player needs to bet an amount of money within range of 1 to max bet (10). Note: Face up means that you will know what the card is.\n",
    "\n",
    "The player can request additional cards (hit=1) until they decide to stop (stick=0) or exceed 21 (bust).\n",
    "\n",
    "After the player sticks, the dealer reveals their facedown card, and draws until their sum is 17 or greater (fixed policy). If the dealer goes bust the player wins. You won't see the dealer's facedown card, just you will know if you have or lost and you will get appropriate reward of +1 if you win, -1 if you loose or 0 if the match is drawn. (It is freedom of choice for you to change the reward function. If you want to change, you should explain the reason of the change.)\n",
    "\n",
    "If the player wins, the amount he has bet will be doubled and given back. If the player and dealer have the same sum, then its a draw and the player will get back the money he has bet. If the player loses then, the money he bet will be lost. If neither player nor dealer busts, the outcome (win, lose, draw) is decided by whose sum is closer to 21. You are free to change the reward function to make it learn more efficiently. (i.e., the amount of money the user is winning after each round).\n",
    "\n",
    "Regardless of the number of players on the table, each player will be just playing against the dealer independently of the other players. "
   ]
  },
  {
   "cell_type": "markdown",
   "metadata": {},
   "source": [
    "# Methods"
   ]
  },
  {
   "cell_type": "markdown",
   "metadata": {},
   "source": [
    "## Review of the SARSA and Q-Learning\n",
    "When the number of states increases, the memory problem comes into picture. **Temporal Difference** helps us handle these problems. TD learning checks that agent learns only partial information of MDP. It keep track of the only of the current and next state and it let the agent explore the enviroment randomly, with the value function:\n",
    "\n",
    "$$ V(s_t) = R_{t+1} + \\gamma V(s_{t+1})$$\n",
    "\n",
    "So, temoral difference Error:\n",
    "$$ \\delta_t= R_{t+1} + \\gamma V(s_{t+1}) - V(s_t)$$\n",
    "\n",
    "This error can be further be used to estimate the gradient to update the value estimation:\n",
    "$$ \n",
    "\\delta_t \\leftarrow R_{t+1} + \\alpha \\delta_t \n",
    "$$\n",
    "\n",
    "We define Q function to evaluate state and action together. So we follow two different algorithms for updating the Q-table:    \n",
    "**1. SARSA** (on-policy control)  \n",
    "\n",
    "In **SARSA**, we use the action that is taken in previous state.\n",
    "First we update Q with certain assumption and follow a certain behavior policy. This, it is called on-policy control. Given below is the formula used to update Q in SARSA\n",
    "\n",
    "$$\n",
    "    Q(s_t, a_t) \\leftarrow Q(s_t, a_t) + \\alpha ( R_{t+1} + \\gamma Q(s_{t+1}, a_{t+1}) - Q(s_t, a_t)) \n",
    "$$\n",
    "\n",
    "**2. Q-learning** (off-policy control)\n",
    "\n",
    "In **Q-learning** algorithm, if we start at state 1, perform some action and get some reward, and then look what is the maximum reward for an action is in state 2, and uses it to update action value of performing the action 1 in the state 1.\n",
    "\n",
    "In Q-learning, we do not make any king of assumption in behavior policy and explore other possiblle policies to update the table. Thus this is called as off-policy control. Given below is the formula used to update Q in Q-learning\n",
    "\n",
    "$$\n",
    "    Q(s_t, a_t) \\leftarrow Q(s_t, a_t) + \\alpha ( R_{t+1} + \\gamma \\max_a Q(s_{t+1}, a) - Q(s_t, a_t)) \n",
    "$$\n",
    "\n",
    "The primary difference in Q-learning is that it uses the action with maximum reward to update the action value.\n",
    "\n",
    "Below are the psedocodes for each algorithm. \n",
    "\n",
    "**[Algorithm: SARSA]**\n",
    "![](http://incompleteideas.net/book/ebook/pseudotmp8.png)\n",
    "\n",
    "\n",
    "**[Algorithm: Q-learning]**\n",
    "![](http://incompleteideas.net/book/ebook/pseudotmp9.png)\n"
   ]
  },
  {
   "cell_type": "markdown",
   "metadata": {},
   "source": [
    "## Choice of TD learning and Reason\n",
    "\n",
    "There is not much difference between the two learning algorithms i.e SARSA and Q-learning. The only difference between the two is that Q-learning simply select one with maximum Q value, a kind of Greedy approach. We will follow Q-learning approach for our problem in order to maximizing the reward. Since we have only 2 possible actions for our problem so there would not be any computational problem.  \n",
    "Although there is a little problem with even this approach is that greedy selection will repeat the same actionsor we can say that it repeatedly exploit our current knowledge.  \n",
    "\n",
    "\n",
    "This is called **Exploration-Exploitation** problem.  \n",
    "1. Exploration: This approach is abot exploring number of states and actions in the environment.\n",
    "2. Exploitation: While on the other hand this approach is continiously selecting our actions to greddily to maximize the rewards.\n",
    "\n",
    "We have to amintain a tradeoff between the two and we select our action based on $\\epsilon$-greedy action selection. we can conytrol these parameters between $\\epsilon \\in [0,1]$. $\\epsilon$=0 means the action is selected in greedy manner while $\\epsilon$=1 means action is selected randomly.   \n",
    "We will maintain a kind of tradeoff between these 2.\n"
   ]
  },
  {
   "cell_type": "markdown",
   "metadata": {},
   "source": [
    "## Choice of Function Approximation and Reason\n",
    "\n"
   ]
  },
  {
   "cell_type": "markdown",
   "metadata": {},
   "source": [
    "Q-learning can be combined with function approximation. This makes it possible to apply the algorithm to larger problems, even when the state space is continuous. Here are the two famous action-value function approximation functions:\n",
    "\n",
    "* Linear Value\n",
    "* Neural Network\n",
    "\n",
    "I have chosen *Linear Value Function approximation* as it is a differentiable function approximator and converges to global optimum.  It lets us assign values to states s, which can then be used to determine optimal policies. The performance of Value Iteration with function approximation is going to depend almost entirely on the quality of the features (along with the function representation, i.e. linear, neural network, etc.)\n",
    "\n",
    "For state transition from $i$ to $j$ with action $k$\n",
    "$$ V^{n+1} (s_i) = \\max_k \\Big[ R_i + \\gamma \\sum_{j=1}^N P^k_{ij} V^n (s_j) \\Big] $$\n",
    "\n",
    "With an estiate of the value function $V(s)$, $\\hat{V}(s)$, \n",
    "\n",
    "   $$ \n",
    "        \\begin{align}\n",
    "        \\Rightarrow \\quad \\delta_t &= R_{t+1} + \\gamma \\hat{V}(s_{t+1}) - V(s_t).\n",
    "        \\end{align}\n",
    "    $$\n",
    "    \n",
    "We can use this error as a gradient to update the value estimation.\n",
    "\n",
    "$$\n",
    "    \\begin{align}\n",
    "        V(s_t) &\\leftarrow R_{t+1} + \\alpha (R_{t+1} + \\gamma \\hat{V}(s_{t+1}) - V(s_t))\n",
    "    \\end{align}\n",
    "$$\n",
    "\n",
    "Without making assumption of behavior policy, we can explore other possible policies to update the Q.\n",
    "\n",
    "$$\n",
    "    Q(s_t, a_t) \\leftarrow Q(s_t, a_t) + \\alpha ( R_{t+1} + \\gamma \\max_a Q(s_{t+1}, a) - Q(s_t, a_t)) \n",
    "$$\n",
    "\n",
    "Picking an action can be simple by selecting one with maximum Q value, so Greedy!. \n",
    "\n",
    "$$\n",
    "a^* = \\arg \\max_a Q(S_t, a)\n",
    "$$"
   ]
  },
  {
   "cell_type": "markdown",
   "metadata": {},
   "source": [
    "## Implementation of the Approach"
   ]
  },
  {
   "cell_type": "markdown",
   "metadata": {},
   "source": [
    "### Creating the player"
   ]
  },
  {
   "cell_type": "code",
   "execution_count": 1,
   "metadata": {},
   "outputs": [
    {
     "ename": "ModuleNotFoundError",
     "evalue": "No module named 'gym'",
     "output_type": "error",
     "traceback": [
      "\u001b[0;31m---------------------------------------------------------------------------\u001b[0m",
      "\u001b[0;31mModuleNotFoundError\u001b[0m                       Traceback (most recent call last)",
      "\u001b[0;32m<ipython-input-1-2d2d9143c2f7>\u001b[0m in \u001b[0;36m<module>\u001b[0;34m\u001b[0m\n\u001b[0;32m----> 1\u001b[0;31m \u001b[0;32mimport\u001b[0m \u001b[0mgym\u001b[0m\u001b[0;34m\u001b[0m\u001b[0;34m\u001b[0m\u001b[0m\n\u001b[0m\u001b[1;32m      2\u001b[0m \u001b[0;32mfrom\u001b[0m \u001b[0mgym\u001b[0m \u001b[0;32mimport\u001b[0m \u001b[0mspaces\u001b[0m\u001b[0;34m\u001b[0m\u001b[0;34m\u001b[0m\u001b[0m\n\u001b[1;32m      3\u001b[0m \u001b[0;32mfrom\u001b[0m \u001b[0mgym\u001b[0m\u001b[0;34m.\u001b[0m\u001b[0mutils\u001b[0m \u001b[0;32mimport\u001b[0m \u001b[0mseeding\u001b[0m\u001b[0;34m\u001b[0m\u001b[0;34m\u001b[0m\u001b[0m\n\u001b[1;32m      4\u001b[0m \u001b[0;32mimport\u001b[0m \u001b[0mnumpy\u001b[0m \u001b[0;32mas\u001b[0m \u001b[0mnp\u001b[0m\u001b[0;34m\u001b[0m\u001b[0;34m\u001b[0m\u001b[0m\n",
      "\u001b[0;31mModuleNotFoundError\u001b[0m: No module named 'gym'"
     ]
    }
   ],
   "source": [
    "import gym\n",
    "from gym import spaces\n",
    "from gym.utils import seeding\n",
    "import numpy as np"
   ]
  },
  {
   "cell_type": "code",
   "execution_count": 55,
   "metadata": {},
   "outputs": [],
   "source": [
    "class Player():\n",
    "    \"\"\"\n",
    "        \n",
    "        Player class to create a player object.\n",
    "        eg: player = Player(\"player1\", start_balance = 10)\n",
    "        Above declaration will be for your agent.\n",
    "        All the player names should be unique or else you will get error.\n",
    "        \n",
    "    \"\"\"\n",
    "    def __init__(self, player_name, start_balance = 10):\n",
    "        self.player_name = player_name\n",
    "        self.card = []\n",
    "        self.starter_balance = start_balance\n",
    "        self.total_balance = start_balance\n",
    "\n",
    "    def recharge_account(self):\n",
    "        self.total_balance = self.starter_balance\n",
    "        \n",
    "    def get_info(self):\n",
    "        print(\"Player name: {}\".format(self.player_name))\n",
    "        print(\"Player card: {}\".format(self.card))\n",
    "        print(\"Player total_balance: {}\".format(self.total_balance))     "
   ]
  },
  {
   "cell_type": "markdown",
   "metadata": {},
   "source": [
    "### Utilities function"
   ]
  },
  {
   "cell_type": "code",
   "execution_count": 56,
   "metadata": {},
   "outputs": [],
   "source": [
    "def cmp(a, b):\n",
    "    return float(a > b) - float(a < b)\n",
    "\n",
    "# 1 = Ace, 2-10 = Number cards, Jack/Queen/King = 10\n",
    "deck = [1, 2, 3, 4, 5, 6, 7, 8, 9, 10, 10, 10, 10]\n",
    "\n",
    "\n",
    "def draw_card(np_random):\n",
    "    return int(np_random.choice(deck))\n",
    "\n",
    "\n",
    "def draw_hand(np_random):\n",
    "    return [draw_card(np_random), draw_card(np_random)]\n",
    "\n",
    "\n",
    "def usable_ace(hand):  # Does this hand have a usable ace?\n",
    "    return 1 in hand and sum(hand) + 10 <= 21\n",
    "\n",
    "\n",
    "def sum_hand(hand):  # Return current hand total\n",
    "    if usable_ace(hand):\n",
    "        return sum(hand) + 10\n",
    "    return sum(hand)\n",
    "\n",
    "\n",
    "def is_bust(hand):  # Is this hand a bust?\n",
    "    return sum_hand(hand) > 21\n",
    "\n",
    "\n",
    "def score(hand):  # What is the score of this hand (0 if bust)\n",
    "    return 0 if is_bust(hand) else sum_hand(hand)\n",
    "\n",
    "\n",
    "def is_natural(hand):  # Is this hand a natural blackjack?\n",
    "    return sorted(hand) == [1, 10]"
   ]
  },
  {
   "cell_type": "markdown",
   "metadata": {},
   "source": [
    "### Creating the Black Jack Environment"
   ]
  },
  {
   "cell_type": "code",
   "execution_count": 57,
   "metadata": {},
   "outputs": [],
   "source": [
    "\n",
    "class BlackjackEnv(gym.Env):\n",
    "    \"\"\"\n",
    "    Simple blackjack environment\n",
    "    \n",
    "    Blackjack is a card game where the goal is to obtain cards that sum to as\n",
    "    near as possible to 21 without going over.  They're playing against a fixed\n",
    "    dealer.\n",
    "    Face cards (Jack, Queen, King) have point value 10.\n",
    "    Aces can either count as 11 or 1, and it's called 'usable' at 11.\n",
    "    This game is placed with an infinite deck (or with replacement).\n",
    "    The game starts with each (player and dealer) having one face up and one\n",
    "    face down card.\n",
    "    The player can request additional cards (hit=1) until they decide to stop\n",
    "    (stick=0) or exceed 21 (bust).\n",
    "    After the player sticks, the dealer reveals their facedown card, and draws\n",
    "    until their sum is 17 or greater.  If the dealer goes bust the player wins.\n",
    "    If neither player nor dealer busts, the outcome (win, lose, draw) is\n",
    "    decided by whose sum is closer to 21.  The reward for winning is +1,\n",
    "    drawing is 0, and losing is -1.\n",
    "    The observation is: the players current sum, players current card, players balance left, \n",
    "    the dealer's one showing card (1-10 where 1 is ace),\n",
    "    and whether or not the player holds a usable ace (0 or 1).\n",
    "    \n",
    "    Parameters\n",
    "    ==========\n",
    "    natural      boolean\n",
    "                 option for 50% more reward on natural blackjack \n",
    "    \n",
    "    \"\"\"\n",
    "    \n",
    "    def __init__(self, natural=False):\n",
    "        self.action_space = spaces.Discrete(2)\n",
    "        self.observation_space = spaces.Tuple((\n",
    "            spaces.Discrete(32),\n",
    "            spaces.Discrete(11),\n",
    "            spaces.Discrete(2)))\n",
    "        self.seed()\n",
    "        self.total_players = 1\n",
    "        self.players = {}\n",
    "        self.natural = natural\n",
    "        self.dealer = []\n",
    "        self.round_bet_info = {}\n",
    "        self.max_bet_cap = 10\n",
    "\n",
    "    def add_player(self, player_class):\n",
    "        if player_class not in self.players and len(self.players) < self.total_players:\n",
    "            self.players[player_class.player_name] = player_class\n",
    "        else:\n",
    "            raise Exception(\"Maximum number of player allowed: {}. You can increase the player count while initializing the environment\".format(len(self.players)))\n",
    "\n",
    "    def seed(self, seed=None):\n",
    "        self.np_random, seed = seeding.np_random(seed)\n",
    "        return [seed]\n",
    "\n",
    "    def step(self, player_name, action):\n",
    "        assert self.action_space.contains(action)\n",
    "        if action:  # hit: add a card to players hand and return\n",
    "            self.players[player_name].card.append(draw_card(self.np_random))\n",
    "            if is_bust(self.players[player_name].card):\n",
    "                done = True\n",
    "                reward = -1\n",
    "            else:\n",
    "                done = False\n",
    "                reward = 0\n",
    "        else:  # stick: play out the dealers hand, and score\n",
    "            done = True\n",
    "            while sum_hand(self.dealer) < 17:\n",
    "                self.dealer.append(draw_card(self.np_random))\n",
    "            reward = cmp(score(self.players[player_name].card), score(self.dealer))\n",
    "            if self.natural and is_natural(self.players[player_name].card) and reward == 1:\n",
    "                reward = 1.5\n",
    "        if done:\n",
    "            self.settle_balance(int(reward), player_name)\n",
    "        return {'state':self._get_obs(player_name), 'reward': reward, 'is_round_done': done}\n",
    "\n",
    "    def _get_obs(self, player_name):\n",
    "        return {'player_info':self.get_player_obs(player_name), \n",
    "                'dealer_info': self.dealer[0]}\n",
    "\n",
    "    def get_player_obs(self, player_name):\n",
    "        return {'player_sum_card':sum_hand(self.players[player_name].card), \n",
    "                'player_card':self.players[player_name].card, \n",
    "                'player_total_balance':self.players[player_name].total_balance, \n",
    "                'usable_ace' : usable_ace(self.players[player_name].card)}\n",
    "    \n",
    "    def get_valid_bet_amount(self, player_name):\n",
    "        #print(\"player name: {} money left: {}\".format(player_name, self.players[player_name].total_balance))\n",
    "        if self.players[player_name].total_balance < 1:\n",
    "            return {'is_round_done': True, 'valid_bet_amount': -1}\n",
    "        max_bet_upper_limit = self.players[player_name].total_balance\n",
    "        if self.players[player_name].total_balance >= self.max_bet_cap:\n",
    "            max_bet_upper_limit = self.max_bet_cap            \n",
    "        return {'is_round_done': False, 'valid_bet_amount': list(range(1, max_bet_upper_limit+1))}\n",
    "            \n",
    "    def init_round(self, player_name):         \n",
    "        self.dealer = draw_hand(self.np_random)\n",
    "        self.players[player_name].card = draw_hand(self.np_random)\n",
    "        return {'state': self._get_obs(player_name)}        \n",
    "\n",
    "    def bet_money(self, player_name, bet_amount):\n",
    "        self.players[player_name].total_balance -= bet_amount\n",
    "        self.round_bet_info[player_name] = bet_amount\n",
    "            \n",
    "    def settle_balance(self, is_winner, player_name):\n",
    "        if is_winner == 1:\n",
    "            #print(\"player winner\")\n",
    "            self.players[player_name].total_balance += (2 * self.round_bet_info[player_name])\n",
    "        elif is_winner == 0:\n",
    "            #print(\"Draw match\")\n",
    "            self.players[player_name].total_balance += self.round_bet_info[player_name]\n",
    "        #else:\n",
    "            #print(\"player loser, wont get back the money, try next round\")\n",
    "    \n",
    "    def reset(self, natural=False):\n",
    "        for player_name, player_class in self.players.items():\n",
    "            player_class.recharge_account()\n",
    "        self.natural = natural\n",
    "        self.dealer = []\n",
    "        self.round_bet_info = {}"
   ]
  },
  {
   "cell_type": "markdown",
   "metadata": {},
   "source": [
    "## RLAgent for BlackJack"
   ]
  },
  {
   "cell_type": "code",
   "execution_count": 58,
   "metadata": {},
   "outputs": [],
   "source": [
    "from collections import defaultdict\n",
    "\n",
    "class Agent: \n",
    "    \"\"\"\n",
    "        Reinforcement Learning Agent Model using Q-Learning\n",
    "        \n",
    "    \"\"\"\n",
    "    \n",
    "    def __init__(self, env):\n",
    "        self.env = env\n",
    "        #number of actions\n",
    "        self.nA = env.action_space.n\n",
    "        #Initialise Q-Table\n",
    "        self.Q = defaultdict(lambda: np.zeros(self.nA))\n",
    "    \n",
    "    # greedy action selection\n",
    "    def greedy(self, Q, state):\n",
    "        return np.argmax(self.Q[state])  \n",
    "    \n",
    "    #epsilon greedy function\n",
    "    def epsilon_greed(self, epsilon, state):\n",
    "        if np.random.rand() < epsilon:\n",
    "            return np.random.randint(self.nA)\n",
    "        else:\n",
    "            return self.greedy(self.Q, state)\n",
    "    \n",
    "    #Converting our state to tuple from a dictionary to store in our Q table. \n",
    "    def stateConversion(self,state):\n",
    "        state = tuple((state['player_info']['player_sum_card'], state['dealer_info'], state['player_info']['usable_ace']))\n",
    "        return state\n",
    "\n",
    "    def train(self, player1, **params):\n",
    "        \n",
    "        # parameters\n",
    "        gamma = params.pop('gamma', 0.99)\n",
    "        alpha = params.pop('alpha', 0.1)\n",
    "        epsilon= params.pop('epsilon', 0.1)\n",
    "        games= params.pop('maxiter', 1000) #no. of games\n",
    "        rounds= params.pop('maxstep', 100) #no. of rounds     \n",
    "        \n",
    "        #online train\n",
    "        #initialise rewards trace\n",
    "        rtrace = []\n",
    "        \n",
    "        for j in range(games):\n",
    "            env.reset()\n",
    "            \n",
    "            #initialise rewards and trace as an empty list\n",
    "            rewards = []\n",
    "            trace = []\n",
    "            \n",
    "            # run simulation for max number of steps \n",
    "            for step in range(rounds): \n",
    "        \n",
    "                #Check if you have enough money left in the account to bet, if not break and start a new game\n",
    "                valid_bet_flag = env.get_valid_bet_amount(player1.player_name)\n",
    "                if valid_bet_flag['is_round_done']:\n",
    "                    break\n",
    "                bet_amount = valid_bet_flag['valid_bet_amount']\n",
    "\n",
    "                #Get the observations i.e state and use it to decide the bet amount\n",
    "                state = env.init_round(player1.player_name)\n",
    "                \n",
    "                #Converting the state to tuple\n",
    "                state = self.stateConversion(state['state'])\n",
    "\n",
    "                # If you have just $1 left in the bank, ALL-IN \n",
    "                if len(bet_amount) == 1 and bet_amount[0] == 1:\n",
    "                    bet = 1\n",
    "                else:\n",
    "                    bet = np.random.choice(bet_amount)\n",
    "                    env.bet_money(player1.player_name, bet)\n",
    "\n",
    "                #Action Selection\n",
    "                action = self.epsilon_greed(epsilon, state)\n",
    "                \n",
    "                while True:\n",
    "                    #Use the selected action to actually take the action in env by calling step\n",
    "                    result = env.step(player1.player_name, action)\n",
    "                    \n",
    "                    #Fetching state, reward and done from the result\n",
    "                    next_state, reward, done = result['state'], result['reward'], result['is_round_done']\n",
    "                    next_state = self.stateConversion(next_state)\n",
    "                    \n",
    "                    #Selecting next action\n",
    "                    next_action = self.epsilon_greed(epsilon,next_state)\n",
    "                    trace.append(next_state)\n",
    "                    rewards.append(reward)\n",
    "\n",
    "                    #updating Q-table using Q-learning algorithm\n",
    "                    self.Q[state][action] = self.Q[state][action] + ( alpha * ( (reward + (gamma * np.max(self.Q[next_state]))) - self.Q[state][action] ) )    \n",
    "                    \n",
    "                    state = next_state\n",
    "                    action = next_action\n",
    "                    if done:\n",
    "                        break\n",
    "\n",
    "            rtrace.append(np.sum(rewards))\n",
    "        return rtrace, trace\n",
    "\n",
    "    def test(self, maxiter=1000):\n",
    "        epsilon = 0\n",
    "        win = 0\n",
    "        lose = 0\n",
    "        draw = 0\n",
    "        \n",
    "        # rewards and trace\n",
    "        rtrace = []\n",
    "        trace = []\n",
    "        \n",
    "        #keeping track of number of rounds\n",
    "        rounds = 0\n",
    "        \n",
    "        for j in range(maxiter):         \n",
    "            env.reset()\n",
    "            \n",
    "            #Checking if we have enough money left in the account to bet, if not break and start a new game\n",
    "            valid_bet_flag = env.get_valid_bet_amount(player1.player_name)\n",
    "            if valid_bet_flag['is_round_done']:\n",
    "                break\n",
    "            bet_amount = valid_bet_flag['valid_bet_amount']\n",
    "\n",
    "            #Get the observations i.e state and use it to decide how much to bet\n",
    "            state = env.init_round(player1.player_name)\n",
    "\n",
    "            #Converting state to tuple\n",
    "            state = self.stateConversion(state['state'])\n",
    "\n",
    "            # If you have just $1 left in the bank, ALL-IN \n",
    "            if len(bet_amount) == 1 and bet_amount[0] == 1:\n",
    "                bet = 1\n",
    "            else:\n",
    "                bet = np.random.choice(bet_amount)\n",
    "                env.bet_money(player1.player_name, bet)\n",
    "\n",
    "            #Select action\n",
    "            action = self.epsilon_greed(epsilon, state)\n",
    "          \n",
    "            rewards = []\n",
    "            \n",
    "            while True :\n",
    "                #Use the selected action to actually take the action in env by calling step\n",
    "                result = env.step(player1.player_name, action)\n",
    "                \n",
    "                next_state, reward, done = result['state'], result['reward'], result['is_round_done']\n",
    "                next_state = self.stateConversion(next_state)\n",
    "                next_action = self.epsilon_greed(epsilon,next_state)\n",
    "                trace.append(next_state)\n",
    "                rewards.append(reward)\n",
    "\n",
    "                state = next_state\n",
    "                action = next_action\n",
    "                rounds += 1\n",
    "\n",
    "                if(reward>0):\n",
    "                    win = win + 1\n",
    "                elif(reward<0):\n",
    "                    lose = lose + 1\n",
    "                else:\n",
    "                    draw = draw + 1\n",
    "\n",
    "                if done:\n",
    "                    break\n",
    "                    \n",
    "            rtrace.append(np.sum(rewards))\n",
    "        \n",
    "        \n",
    "        return rtrace, trace, ((win*100)/rounds)"
   ]
  },
  {
   "cell_type": "code",
   "execution_count": 10,
   "metadata": {},
   "outputs": [],
   "source": [
    "# Creating the Enviroment\n",
    "env = BlackjackEnv()\n",
    "\n",
    "# Adding the Player\n",
    "player1 = Player('player1')\n",
    "env.add_player(player1)\n",
    "\n",
    "# Creating the Agent \n",
    "agent = Agent(env)\n",
    "rtrace, trace = agent.train(player1)\n"
   ]
  },
  {
   "cell_type": "code",
   "execution_count": 11,
   "metadata": {},
   "outputs": [
    {
     "name": "stdout",
     "output_type": "stream",
     "text": [
      "Win Percentage:  27.8580814717477\n"
     ]
    }
   ],
   "source": [
    "rtrace_test, trace_test, win = agent.test()\n",
    "print(\"Win Percentage: \",win)"
   ]
  },
  {
   "cell_type": "markdown",
   "metadata": {},
   "source": [
    "## Explanation of the codes\n",
    "\n",
    "For the implementation of the above code, we have created 3 classes and some utilities function:\n",
    "1. **Player Class **: This class will create the player with certain attributes like player name, cards player holds, starting balance and thr total balance a player has.\n",
    "\n",
    "  \n",
    "2. Then, we have created some **utilities function ** like drawing a card, checking bust, calculating scores etcetra, which will be used in our complete implementation in different classes.\n",
    "\n",
    "  \n",
    "3. **BlackjackEnv class **: This class is creating the complete game enviroment and contains all the functionalities of the games:  \n",
    "   Methods Defined: \n",
    "   1. **init: ** In the constructor we are initialising the action and observation space, number of players, dealer information and betting information.\n",
    "   2. **add_player: ** This method is used for creating a new player but upto maximum limit which is initailised at time of object creation.\n",
    "   3. **step: ** This method defines the next action that needs to be taken by player after checking the bust condition and betting balance it has. This method also defines the action for the dealer for picking up the card on the defined condition.\n",
    "   4. **get_valid_bet_amount: ** This funtion will return the upper limit of the betting amount that a player can bet after checking the balance.\n",
    "   5. **init_round: ** This method will be called in the beginning of the round to handover the cards.\n",
    "   6. **bet_money: ** This function will update the to total amount after the  betting amount is decided by the player.\n",
    "   7. **settle_balance: ** This method update the player information based on winning, losing or drawing the game.\n",
    "   8. **reset: ** This method will update the complete environment.\n",
    "     \n",
    "     \n",
    "4. **Agent Class **: This class is creatinng an agent whichh will be trained on the basis if number of games and rounds in each game and on different hyperparameters.  \n",
    "    Following are the methods defined in this class:\n",
    "    1. **init: ** In the constructor, we have initialised the game environment, number of actions and the Q table.\n",
    "    2. **epsilon_greed: ** This function help us decides that wheather a action taken should be greedy or random based on epsilon value.\n",
    "    3. **stateConversion: ** In this funnction we are converting our state to tuple and storing onnly the informationn we want to store in Q table.\n",
    "    4. **train: **  This is the important method in our Agent class, which is iterating over the number of rounds for each game with passed value of hyperparameters. In this method we will initialise the round, setting the betting amount according to the balance, select the action (greedy/random) and based on that action and take that action in the environment. Based on the action taken we will calculate the next action, rewards and keep track of those rewards and action and correspondingly update our Q-table based on our action and state.\n",
    "    5. **test: ** This will use our updated Q-table for the best action and calculate the winning percentage."
   ]
  },
  {
   "cell_type": "markdown",
   "metadata": {},
   "source": [
    "# Results"
   ]
  },
  {
   "cell_type": "markdown",
   "metadata": {},
   "source": [
    "## Experimental Output for parameter selection and Output Plots"
   ]
  },
  {
   "cell_type": "markdown",
   "metadata": {},
   "source": [
    "### Visualization of Alpha Vs win Percentage"
   ]
  },
  {
   "cell_type": "code",
   "execution_count": 35,
   "metadata": {},
   "outputs": [
    {
     "name": "stdout",
     "output_type": "stream",
     "text": [
      "Alpha: 0.001\tWin Percentage: 28.054607508532424\n",
      "Alpha: 0.01\tWin Percentage: 26.206475259621257\n",
      "Alpha: 0.1\tWin Percentage: 23.82103990326481\n",
      "Alpha: 0.2\tWin Percentage: 25.077208153180976\n",
      "Alpha: 0.4\tWin Percentage: 24.71626733921816\n",
      "Alpha: 0.5\tWin Percentage: 25.71067593177511\n",
      "Alpha: 0.6\tWin Percentage: 28.032683846637337\n",
      "Alpha: 0.7\tWin Percentage: 25.699414443721537\n",
      "Alpha: 0.8\tWin Percentage: 25.854287556415215\n",
      "Alpha: 1\tWin Percentage: 23.852040816326532\n"
     ]
    }
   ],
   "source": [
    "no_of_cases = [0.001,0.01,0.1,0.2,0.4,0.5,0.6,0.7,0.8,1]\n",
    "wins = []\n",
    "alpha = []\n",
    "\n",
    "env_alpha = BlackjackEnv()\n",
    "player1_alpha = Player('player1')\n",
    "env_alpha.add_player(player1_alpha)\n",
    "agent_alpha = Agent(env_alpha)\n",
    "\n",
    "for i in range(len(no_of_cases)):\n",
    "    rtrace,trace = agent_alpha.train(player1_alpha, alpha=no_of_cases[i])  \n",
    "    rtrace_test, trace_test, win = agent_alpha.test()\n",
    "    \n",
    "    wins.append(win)\n",
    "    alpha.append(no_of_cases[i])\n",
    "    print(\"Alpha: \"+str(no_of_cases[i])+\"\\tWin Percentage: \"+str(win))"
   ]
  },
  {
   "cell_type": "code",
   "execution_count": 36,
   "metadata": {},
   "outputs": [
    {
     "data": {
      "image/png": "[encoded data removed]",
      "text/plain": [
       "<Figure size 432x288 with 1 Axes>"
      ]
     },
     "metadata": {},
     "output_type": "display_data"
    }
   ],
   "source": [
    "import matplotlib.pyplot as plt\n",
    "%matplotlib inline\n",
    "plt.plot(alpha,wins)\n",
    "plt.xticks(np.arange(0, 1, 0.1))\n",
    "plt.xlabel(\"Alpha\")\n",
    "plt.ylabel(\"Win percentage\")\n",
    "plt.show()"
   ]
  },
  {
   "cell_type": "markdown",
   "metadata": {},
   "source": [
    "Since the number of steps is too high when alpha is 0, we are not able to find the difference for other values of alpha. So visualization after ignoring the case alpha=0"
   ]
  },
  {
   "cell_type": "markdown",
   "metadata": {},
   "source": [
    "### Visualization of Epsilon Vs win Percentage"
   ]
  },
  {
   "cell_type": "code",
   "execution_count": 37,
   "metadata": {},
   "outputs": [
    {
     "name": "stdout",
     "output_type": "stream",
     "text": [
      "Epsilon: 0\tWin Percentage: 27.869940278699403\n",
      "Epsilon: 0.1\tWin Percentage: 28.283485045513654\n",
      "Epsilon: 0.2\tWin Percentage: 26.70967741935484\n",
      "Epsilon: 0.3\tWin Percentage: 25.776965265082268\n",
      "Epsilon: 0.4\tWin Percentage: 23.396456933414782\n",
      "Epsilon: 0.5\tWin Percentage: 26.45631067961165\n",
      "Epsilon: 0.6\tWin Percentage: 22.760290556900728\n",
      "Epsilon: 0.7\tWin Percentage: 26.325411334552104\n",
      "Epsilon: 0.8\tWin Percentage: 26.514215080346105\n",
      "Epsilon: 0.9\tWin Percentage: 25.198291641244662\n",
      "Epsilon: 1\tWin Percentage: 26.870324189526183\n"
     ]
    }
   ],
   "source": [
    "epsilon = [0,0.1,0.2,0.3,0.4,0.5,0.6,0.7,0.8,0.9,1]\n",
    "wins_epsilon = []\n",
    "\n",
    "env_epsilon = BlackjackEnv()\n",
    "player1_epsilon = Player('player1')\n",
    "env_epsilon.add_player(player1_epsilon)\n",
    "agent_epsilon = Agent(env_epsilon)\n",
    "\n",
    "for i in range(len(epsilon)):\n",
    "    rtrace,trace = agent_epsilon.train(player1_epsilon, epsilon=epsilon[i])  \n",
    "    rtrace_test, trace_test, win = agent_epsilon.test()\n",
    "    \n",
    "    wins_epsilon.append(win)\n",
    "    print(\"Epsilon: \"+str(epsilon[i])+\"\\tWin Percentage: \"+str(win))"
   ]
  },
  {
   "cell_type": "code",
   "execution_count": 39,
   "metadata": {},
   "outputs": [
    {
     "data": {
      "image/png": "[encoded data removed]",
      "text/plain": [
       "<Figure size 432x288 with 1 Axes>"
      ]
     },
     "metadata": {},
     "output_type": "display_data"
    }
   ],
   "source": [
    "plt.plot(epsilon,wins_epsilon)\n",
    "plt.xticks(np.arange(0, 1, 0.1))\n",
    "plt.xlabel(\"Epsilon\")\n",
    "plt.ylabel(\"Win percentage\")\n",
    "plt.show()"
   ]
  },
  {
   "cell_type": "markdown",
   "metadata": {},
   "source": [
    "### Visualization of Gamma Vs Win Percentage"
   ]
  },
  {
   "cell_type": "code",
   "execution_count": 59,
   "metadata": {},
   "outputs": [
    {
     "name": "stdout",
     "output_type": "stream",
     "text": [
      "gamma: 0.1\tWin Percentage: 28.688524590163933\n",
      "gamma: 0.2\tWin Percentage: 28.512679917751885\n",
      "gamma: 0.3\tWin Percentage: 29.415670650730412\n",
      "gamma: 0.4\tWin Percentage: 26.688741721854306\n",
      "gamma: 0.5\tWin Percentage: 26.526835286859964\n",
      "gamma: 0.6\tWin Percentage: 28.20676451818762\n",
      "gamma: 0.7\tWin Percentage: 24.248004910988335\n",
      "gamma: 0.8\tWin Percentage: 25.670731707317074\n",
      "gamma: 0.9\tWin Percentage: 23.674698795180724\n",
      "gamma: 1\tWin Percentage: 24.413710162357187\n"
     ]
    }
   ],
   "source": [
    "gamma = [0.1,0.2,0.3,0.4,0.5,0.6,0.7,0.8,0.9,1]\n",
    "wins_gamma = []\n",
    "\n",
    "env_gamma = BlackjackEnv()\n",
    "player1_gamma = Player('player1')\n",
    "env_gamma.add_player(player1_gamma)\n",
    "agent_gamma = Agent(env_gamma)\n",
    "\n",
    "for i in range(len(gamma)):\n",
    "    rtrace,trace = agent_gamma.train(player1_gamma, gamma=gamma[i])  \n",
    "    rtrace_test, trace_test, win = agent_gamma.test()\n",
    "    \n",
    "    wins_gamma.append(win)\n",
    "    print(\"gamma: \"+str(gamma[i])+\"\\tWin Percentage: \"+str(win))"
   ]
  },
  {
   "cell_type": "code",
   "execution_count": 60,
   "metadata": {
    "scrolled": true
   },
   "outputs": [
    {
     "data": {
      "image/png": "[encoded data removed]",
      "text/plain": [
       "<Figure size 432x288 with 1 Axes>"
      ]
     },
     "metadata": {},
     "output_type": "display_data"
    }
   ],
   "source": [
    "plt.plot(gamma,wins_gamma)\n",
    "plt.xticks(np.arange(0, 1, 0.1))\n",
    "plt.xlabel(\"Gamma\")\n",
    "plt.ylabel(\"Win percentage\")\n",
    "plt.show()"
   ]
  },
  {
   "cell_type": "markdown",
   "metadata": {},
   "source": [
    "### Visualization of No. of Games Vs Win Percentage"
   ]
  },
  {
   "cell_type": "code",
   "execution_count": 45,
   "metadata": {},
   "outputs": [
    {
     "name": "stdout",
     "output_type": "stream",
     "text": [
      "games: 100\tWin Percentage: 25.63749138525155\n",
      "games: 500\tWin Percentage: 30.420280186791196\n",
      "games: 800\tWin Percentage: 25.984251968503937\n",
      "games: 1000\tWin Percentage: 28.89463477698772\n",
      "games: 2000\tWin Percentage: 27.366387636831938\n",
      "games: 3000\tWin Percentage: 26.99004975124378\n",
      "games: 5000\tWin Percentage: 27.696234843650288\n"
     ]
    }
   ],
   "source": [
    "games = [100,500,800,1000,2000,3000,5000]\n",
    "wins_games = []\n",
    "\n",
    "env_games = BlackjackEnv()\n",
    "player1_games = Player('player1')\n",
    "env_games.add_player(player1_games)\n",
    "agent_games = Agent(env_games)\n",
    "\n",
    "for i in range(len(games)):\n",
    "    rtrace,trace = agent_games.train(player1_games, maxiter=games[i])  \n",
    "    rtrace_test, trace_test, win = agent_games.test()\n",
    "    \n",
    "    wins_games.append(win)\n",
    "    print(\"games: \"+str(games[i])+\"\\tWin Percentage: \"+str(win))"
   ]
  },
  {
   "cell_type": "code",
   "execution_count": 49,
   "metadata": {},
   "outputs": [
    {
     "data": {
      "image/png": "[encoded data removed]",
      "text/plain": [
       "<Figure size 432x288 with 1 Axes>"
      ]
     },
     "metadata": {},
     "output_type": "display_data"
    }
   ],
   "source": [
    "plt.plot(games,wins_games)\n",
    "plt.xticks(np.arange(0, 6000, 500))\n",
    "plt.xlabel(\"Games\")\n",
    "plt.ylabel(\"Win percentage\")\n",
    "plt.show()"
   ]
  },
  {
   "cell_type": "markdown",
   "metadata": {},
   "source": [
    "### Visualization of No. of Rounds Vs Win Percentage"
   ]
  },
  {
   "cell_type": "code",
   "execution_count": 61,
   "metadata": {},
   "outputs": [
    {
     "name": "stdout",
     "output_type": "stream",
     "text": [
      "rounds: 100\tWin Percentage: 26.436781609195403\n",
      "rounds: 300\tWin Percentage: 28.60927152317881\n",
      "rounds: 500\tWin Percentage: 28.505897771952817\n",
      "rounds: 800\tWin Percentage: 27.207792207792206\n",
      "rounds: 1000\tWin Percentage: 26.73139158576052\n",
      "rounds: 2000\tWin Percentage: 26.365348399246706\n",
      "rounds: 3000\tWin Percentage: 24.353312302839118\n"
     ]
    }
   ],
   "source": [
    "rounds = [100,300,500,800,1000,2000,3000]\n",
    "wins_rounds = []\n",
    "\n",
    "env_rounds = BlackjackEnv()\n",
    "player1_rounds = Player('player1')\n",
    "env_rounds.add_player(player1_rounds)\n",
    "agent_rounds = Agent(env_rounds)\n",
    "\n",
    "for i in range(len(rounds)):\n",
    "    rtrace,trace = agent_rounds.train(player1_rounds, maxiter=rounds[i])  \n",
    "    rtrace_test, trace_test, win = agent_rounds.test()\n",
    "    \n",
    "    wins_rounds.append(win)\n",
    "    print(\"rounds: \"+str(rounds[i])+\"\\tWin Percentage: \"+str(win))"
   ]
  },
  {
   "cell_type": "code",
   "execution_count": 62,
   "metadata": {},
   "outputs": [
    {
     "data": {
      "image/png": "[encoded data removed]",
      "text/plain": [
       "<Figure size 432x288 with 1 Axes>"
      ]
     },
     "metadata": {},
     "output_type": "display_data"
    }
   ],
   "source": [
    "plt.plot(rounds,wins_rounds)\n",
    "plt.xticks(np.arange(0, 3100, 300))\n",
    "plt.xlabel(\"Rounds\")\n",
    "plt.ylabel(\"Win percentage\")\n",
    "plt.show()"
   ]
  },
  {
   "cell_type": "markdown",
   "metadata": {},
   "source": [
    "## Report for Selected parameters"
   ]
  },
  {
   "cell_type": "markdown",
   "metadata": {},
   "source": [
    "### Best value of Hyperparameters from the above experiments"
   ]
  },
  {
   "cell_type": "markdown",
   "metadata": {},
   "source": [
    "<table style=\"width:50%\">\n",
    "    <h4 align='center'>Results</h4>\n",
    "  <tr>\n",
    "    <th>Hyperparameters</th>\n",
    "    <th>Value</th> \n",
    "    <th>Best win Percentage</th>\n",
    "  </tr>\n",
    "  <tr>\n",
    "    <td>Learning Rate, $\\alpha$</td> \n",
    "    <td>0.01</td>\n",
    "    <td>28.0546</td>\n",
    "  </tr>\n",
    "   <tr>\n",
    "    <td>Epsilon, $\\epsilon$</td> \n",
    "    <td>0.1</td>\n",
    "    <td>28.2834</td> \n",
    "  </tr>\n",
    "   <tr>\n",
    "    <td>Discount Factor, $\\gamma$</td> \n",
    "    <td>0.3</td>\n",
    "    <td>29.4156</td>\n",
    "  </tr>\n",
    "    <tr>\n",
    "    <td>Maxiter (Number of Games)</td> \n",
    "    <td>500</td>\n",
    "    <td>30.4202</td> \n",
    "  </tr>\n",
    "   <tr>\n",
    "    <td>Maxstep (Number of Rounds)</td> \n",
    "    <td>300</td>\n",
    "    <td>28.6092</td>\n",
    "  </tr>\n",
    "</table>"
   ]
  },
  {
   "cell_type": "markdown",
   "metadata": {},
   "source": [
    "I run all the experiments on all the hyperparameters with different possible values they can take over a certain range by setting all other parameters to the default. In all the experiments that I run above, I am calculating win percentage based on the rewards calculated during the testing. I have taken into the consideration the cases where the Win percentage is maximum in all the hyperparameter experiments.  "
   ]
  },
  {
   "cell_type": "markdown",
   "metadata": {},
   "source": [
    "### Hyperparameter tuning with Parameter Grid(Try out all possible values from given values ) "
   ]
  },
  {
   "cell_type": "code",
   "execution_count": 66,
   "metadata": {},
   "outputs": [
    {
     "name": "stdout",
     "output_type": "stream",
     "text": [
      "Best Win :  36.347673397717294 %\n",
      "Best Parameters :  {'alpha': 1, 'epsilon': 0.5, 'gamma': 1}\n"
     ]
    }
   ],
   "source": [
    "from sklearn.model_selection import ParameterGrid\n",
    "\n",
    "params_grid = { 'alpha' : [0.001,0.01,0.1,0.2,0.4,0.5,0.6,0.7,0.8,1], 'gamma' : [0.1,0.2,0.3,0.4,0.5,0.6,0.7,0.8,0.9,1], 'epsilon' : [0,0.1,0.2,0.3,0.4,0.5,0.6,0.7,0.8,0.9,1]} \n",
    "grid_list = list(ParameterGrid(params_grid))\n",
    "\n",
    "\n",
    "env_grid = BlackjackEnv()\n",
    "player1grid = Player('player1')\n",
    "env_grid.add_player(player1grid)\n",
    "agent_grid = Agent(env_grid)\n",
    "#initialise win array to store win results\n",
    "win_grid = []\n",
    "for k in range(len(grid_list)):\n",
    "    rtrace,trace = agent_grid.train(player1grid,**grid_list[k])\n",
    "    rtrace_test, trace_test, win = agent_grid.test()\n",
    "    win_grid.append(win)\n",
    "\n",
    "    if k == 0:\n",
    "        best_win = win_grid[k]\n",
    "        best_grid = grid_list[k]\n",
    "    elif win_grid[k] > best_win:\n",
    "        best_win = win_grid[k]\n",
    "        best_grid = grid_list[k]\n",
    "\n",
    "\n",
    "print(\"Best Win : \", best_win,\"%\")\n",
    "print(\"Best Parameters : \", best_grid)"
   ]
  },
  {
   "cell_type": "markdown",
   "metadata": {},
   "source": [
    "After experimenting on each of the hyperparameters separately by keeping all other constant, I have trained and tested with all possible combinations from different possible values of all the hyperparameters.  \n",
    "For generating all possible combination of hyperparameters, I have used ParameterGrid class from scikit-learn library whcih will generate all possible combinations in the form of dictionary.  \n",
    "\n",
    "<table style=\"width:50%\">\n",
    "    <h3 align='center'>Results from all the combinations</h3>\n",
    "    <h5 align='center'>Best Winning percentage out of all the combinations: 36.34 %</h5>\n",
    "  <tr>\n",
    "    <th>Hyperparameters</th>\n",
    "    <th>Value</th> \n",
    "  </tr>\n",
    "  <tr>\n",
    "    <td>Learning Rate, $\\alpha$</td> \n",
    "    <td>1</td>\n",
    "  </tr>\n",
    "   <tr>\n",
    "    <td>Epsilon, $\\epsilon$</td> \n",
    "    <td>0.5</td>\n",
    "  </tr>\n",
    "   <tr>\n",
    "    <td>Discount Factor, $\\gamma$</td> \n",
    "    <td>1</td>\n",
    "  </tr>\n",
    "</table>\n",
    "\n"
   ]
  },
  {
   "cell_type": "markdown",
   "metadata": {},
   "source": [
    "# More Output plots for BlackJack"
   ]
  },
  {
   "cell_type": "code",
   "execution_count": 64,
   "metadata": {},
   "outputs": [
    {
     "data": {
      "image/png": "[encoded data removed]",
      "text/plain": [
       "<Figure size 432x288 with 1 Axes>"
      ]
     },
     "metadata": {},
     "output_type": "display_data"
    }
   ],
   "source": [
    "#Sample visualization: Rewards for various sum in hand\n",
    "plt.xlabel(\"Sum in hand\")\n",
    "plt.ylabel(\"Reward\")\n",
    "for i in range(50):\n",
    "    plt.scatter(trace_test[i][0], rtrace_test[i])\n"
   ]
  },
  {
   "cell_type": "code",
   "execution_count": 65,
   "metadata": {},
   "outputs": [
    {
     "data": {
      "image/png": "[encoded data removed]",
      "text/plain": [
       "<Figure size 432x288 with 1 Axes>"
      ]
     },
     "metadata": {},
     "output_type": "display_data"
    }
   ],
   "source": [
    "plt.xlabel(\"Reward\")\n",
    "plt.ylabel(\"Dealer open card\")\n",
    "for i in range(50):\n",
    "    plt.scatter( rtrace_test[i], trace_test[i][1])\n"
   ]
  },
  {
   "cell_type": "markdown",
   "metadata": {},
   "source": [
    "# Reading and analysis of learning results and plots\n",
    "\n",
    "I did the anlaysis above for all the 5 hyperparameters for many different values one by one by keeping all other parameters to  their default values. below are the Reading and analysis:\n",
    "1. **Learning Rate(alpha): **  \n",
    "2. **Discount Factor(gamma): ** \n",
    "3. **Epsilon:**\n",
    "4. **Number of games(maxiter):**\n",
    "5. **Number of rounds(maxsteps):**\n",
    "\n",
    "For the learning rate, Discount Factor and Epsilon, I have tried for number of values ranging between 0 to 1. But, there were not much difference or improvement in our winning percentage in either of our case. In all the cases, our  winning percentage remain close to 25% slightly up or down.  \n",
    "Similar is the trends when I tried for the different values for maxiter and maxsteps ranging from 100 to 5000, our winning percenatage were close to 25% only.\n",
    "\n",
    "So tuning just a single hyperparameter at a time does not yield good results. So tried tuning the model with trying all the combinations of all the  hyperparameters for different values.\n",
    "\n",
    "**Parameter Grid**: For generating all possible combinations from all the hyperparameters, I used class ParameterGrid from scikit-learn. Tuning with all the combinations and get the best out of that all results in significantly good results. Our winning percentage of agent rose form 25% to 42%. "
   ]
  },
  {
   "cell_type": "markdown",
   "metadata": {},
   "source": [
    "# Conclusions\n",
    "\n",
    "In this workbook, we get the basic understanding of reinforcement learning and how agent learn from past experience and use its previous experience for deciding next step. We learned 2 approaches of TD learning (SARSA and Q-learning) and chooses q-learining over SARSA approach.\n",
    "\n",
    "Some of the challenges faced:\n",
    "1. The formost challenge was to maintain the Q-table for storing best information for state and action.\n",
    "2. Tuning to obtain the best hyperparameters for trainig the agent.\n",
    "3. There were too many print statements in the sample run code. When I ran my experiments the size of notebook got increased rapidly and casuing it to crash. I had to struggle with restoring my noteboook and comment out the print statements.\n",
    "4. The experiments took quite a long time to run due all possible combinations I was tried to run get best results.\n",
    "\n",
    "Learning from the Exercise:\n",
    "1. From this workbook, I get the basic intuition behind the reinforcement learning agent and how it works.\n",
    "2. I got to know an interesting card game which I had never heard of. I will be definitely trying my luck with Blackjack when I visit a casino.\n",
    "3. I understood how the hyperparameters are tuned and how the learning of an agent is controlled through hyperparameter tuning."
   ]
  },
  {
   "cell_type": "markdown",
   "metadata": {},
   "source": [
    "# References \n",
    "\n",
    "[1]  Steeve Huang. \"Introduction to Various Reinforcement Learning Algorithms. Part I (Q-Learning, SARSA, DQN, DDPG)\", Towards Data Science, Jan 12 2018,\n",
    "https://towardsdatascience.com/introduction-to-various-reinforcement-learning-algorithms-i-q-learning-sarsa-dqn-ddpg-72a5e0cb6287\n",
    "\n",
    "[2] Hunter, J. D. \"Matplotlib: A 2D graphics environment\",Computing In Science \\& Engineering, IEEE COMPUTER SOC, 9, 90-95 (2007),\n",
    "https://matplotlib.org/tutorials/introductory/sample_plots.html\n",
    "\n",
    "[3] Pranav Mahajan. \"Playing Blackjack using Model-free Reinforcement Learning in Google Colab!\", Towards Data Science, Jan 14 2019,\n",
    "https://towardsdatascience.com/playing-blackjack-using-model-free-reinforcement-learning-in-google-colab-aa2041a2c13d\n",
    "\n",
    "[4] \"Q-learning”: From Wikipedia, the free encyclopedia, from \n",
    "https://en.wikipedia.org/wiki/Q-learning"
   ]
  }
 ],
 "metadata": {
  "kernelspec": {
   "display_name": "Python 3",
   "language": "python",
   "name": "python3"
  },
  "language_info": {
   "codemirror_mode": {
    "name": "ipython",
    "version": 3
   },
   "file_extension": ".py",
   "mimetype": "text/x-python",
   "name": "python",
   "nbconvert_exporter": "python",
   "pygments_lexer": "ipython3",
   "version": "3.7.3"
  }
 },
 "nbformat": 4,
 "nbformat_minor": 2
}
